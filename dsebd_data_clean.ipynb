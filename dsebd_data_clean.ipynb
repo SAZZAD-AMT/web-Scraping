{
 "cells": [
  {
   "cell_type": "code",
   "execution_count": null,
   "metadata": {},
   "outputs": [
    {
     "name": "stdout",
     "output_type": "stream",
     "text": [
      "Data cleaned and saved to 'cleaned_dse.csv'.\n"
     ]
    }
   ],
   "source": [
    "import pandas as pd\n",
    "import re\n",
    "\n",
    "# Load the CSV file (replace 'dse.csv' with the correct path if necessary)\n",
    "df = pd.read_csv('RAW_DSEBD.csv')\n",
    "\n",
    "def clean_phone_number(phone):\n",
    "    \"\"\"Function to clean and standardize phone numbers.\"\"\"\n",
    "    if pd.isna(phone):  # Handle missing or NaN values\n",
    "        return None\n",
    "    phone = str(phone)\n",
    "\n",
    "    phone = re.sub(r'(Ext\\.|PABX:|/).*$', '', phone, flags=re.IGNORECASE)\n",
    "    # Remove non-numeric characters except for leading '+' for international formats\n",
    "    phone = re.sub(r'[^0-9\\+]', '', phone)\n",
    "     # Remove non-numeric characters except for the leading '+'\n",
    "    phone = re.sub(r'[^\\d\\+]', '', phone)\n",
    "    # Remove unwanted characters such as (), [], {}, ', and -\n",
    "    phone = re.sub(r\"[\\'\\-\\(\\)\\[\\]\\{\\}]\", '', phone)\n",
    "    # Allow digits, '+', '-', '(', ')', \"'\", and ':' while removing other characters\n",
    "    phone = re.sub(r\"[^0-9\\+\\-\\(\\)\\':]\", '', phone)\n",
    "    # Remove extensions like \"Ext.395\" or \"PABX: 8125110/301\"\n",
    "    phone = re.sub(r'(Ext\\.|PABX:|/)\\s*\\d+.*', '', phone, flags=re.IGNORECASE)\n",
    "    # Remove all spaces\n",
    "    phone = re.sub(r'\\s+', '', phone)\n",
    "    \n",
    "    # Ensure the phone number starts with +88 if it is a Bangladeshi number\n",
    "    if phone.startswith('88'):\n",
    "        phone = '+88' + phone[2:]  # Add '+' before 88 if missing\n",
    "    elif not phone.startswith('+88'):\n",
    "        phone = '+88' + phone  # Add '+88' for non-Bangladeshi numbers\n",
    "\n",
    "    # Remove all non-numeric characters for length validation\n",
    "    phone = re.sub(r\"[^\\d]\", \"\", phone)\n",
    "\n",
    "    # Validate the length (for Bangladeshi numbers, it should be 13 digits starting with +88)\n",
    "    if 10 <= len(phone) <= 15:\n",
    "        return phone\n",
    "    elif 10 < len(phone):\n",
    "        return None  # Invalid phone number format\n",
    "    else:\n",
    "        return None\n",
    "\n",
    "# List of columns to apply the cleaning function\n",
    "phone_columns = ['Number','Number1','Number2', 'Number3', 'Number4', 'Cell No', 'Telephone No']\n",
    "\n",
    "# Apply the cleaning function to each phone number column if it exists in the dataframe\n",
    "for col in phone_columns:\n",
    "    if col in df.columns:\n",
    "        df[col] = df[col].apply(clean_phone_number)\n",
    "\n",
    "# Remove rows where all phone number columns are invalid (NaN)\n",
    "#df_cleaned = df.dropna(subset=phone_columns, how='all')\n",
    "\n",
    "# Save the cleaned data to a new CSV file\n",
    "df.to_csv('Clean_DSEBD.csv', index=False)\n",
    "\n",
    "print(\"Data cleaned and saved to 'cleaned_dse.csv'.\")\n",
    "\n",
    "\n",
    "\n"
   ]
  }
 ],
 "metadata": {
  "kernelspec": {
   "display_name": "Python 3",
   "language": "python",
   "name": "python3"
  },
  "language_info": {
   "codemirror_mode": {
    "name": "ipython",
    "version": 3
   },
   "file_extension": ".py",
   "mimetype": "text/x-python",
   "name": "python",
   "nbconvert_exporter": "python",
   "pygments_lexer": "ipython3",
   "version": "3.11.9"
  }
 },
 "nbformat": 4,
 "nbformat_minor": 2
}
