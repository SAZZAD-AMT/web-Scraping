{
 "cells": [
  {
   "cell_type": "code",
   "execution_count": 3,
   "metadata": {},
   "outputs": [
    {
     "name": "stdout",
     "output_type": "stream",
     "text": [
      "Data cleaned and saved to 'cleaned_dse.csv'.\n"
     ]
    }
   ],
   "source": [
    "import pandas as pd\n",
    "import re\n",
    "\n",
    "# Load the CSV file\n",
    "df = pd.read_csv('RAW_BGMEA.csv')\n",
    "\n",
    "# Function to clean and standardize phone numbers\n",
    "def clean_phone_number(phone):\n",
    "\n",
    "    if pd.isna(phone):  # Handle missing or NaN values\n",
    "        return None\n",
    "    # Remove non-numeric characters except for leading '+' for international formats\n",
    "    phone = re.sub(r'[^0-9\\+]', '', str(phone))\n",
    "    \n",
    "    # Ensure the phone number starts with +88 if it is a Bangladeshi number\n",
    "    if phone.startswith('88') and not phone.startswith('+88'):\n",
    "        phone = '+88' + phone[2:]\n",
    "    elif not phone.startswith('+88'):\n",
    "        phone = '+88' + phone\n",
    "    \n",
    "    # Normalize the length (Bangladeshi numbers should have 13 digits starting with +88)\n",
    "    if len(phone) == 13 and phone.startswith('+88'):\n",
    "        return phone\n",
    "    else:\n",
    "        return None  # Invalid phone number format\n",
    "\n",
    "# Function to clean email addresses (extract a valid email if multiple exist)\n",
    "def clean_email(email):\n",
    "    # Find the first valid email (if multiple emails are present)\n",
    "    emails = re.findall(r'\\b[A-Za-z0-9._%+-]+@[A-Za-z0-9.-]+\\.[A-Z|a-z]{2,}\\b', str(email))\n",
    "    if emails:\n",
    "        return emails[0]  # Return the first email found\n",
    "    else:\n",
    "        return None  # Return None if no valid email is found\n",
    "\n",
    "# Apply the cleaning functions to the relevant columns\n",
    "for col in ['number']:\n",
    "    df[col] = df[col].apply(clean_phone_number)\n",
    "\n",
    "for col in ['mail']:\n",
    "    df[col] = df[col].apply(clean_email)\n",
    "\n",
    "# Save the cleaned data to a new CSV file\n",
    "df.to_csv('Clean_BGMEA.csv', index=False)\n",
    "\n",
    "print(\"Data cleaned and saved to 'cleaned_dse.csv'.\")\n"
   ]
  }
 ],
 "metadata": {
  "kernelspec": {
   "display_name": "Python 3",
   "language": "python",
   "name": "python3"
  },
  "language_info": {
   "codemirror_mode": {
    "name": "ipython",
    "version": 3
   },
   "file_extension": ".py",
   "mimetype": "text/x-python",
   "name": "python",
   "nbconvert_exporter": "python",
   "pygments_lexer": "ipython3",
   "version": "3.11.9"
  }
 },
 "nbformat": 4,
 "nbformat_minor": 2
}
